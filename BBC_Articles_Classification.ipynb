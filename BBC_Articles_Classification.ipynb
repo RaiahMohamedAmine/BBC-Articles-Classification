{
  "nbformat": 4,
  "nbformat_minor": 0,
  "metadata": {
    "accelerator": "GPU",
    "colab": {
      "name": "BBC Articles Classification",
      "provenance": [],
      "toc_visible": true,
      "include_colab_link": true
    },
    "kernelspec": {
      "display_name": "Python 3",
      "name": "python3"
    }
  },
  "cells": [
    {
      "cell_type": "markdown",
      "metadata": {
        "id": "view-in-github",
        "colab_type": "text"
      },
      "source": [
        "<a href=\"https://colab.research.google.com/github/RaiahMohamedAmine/BBC-Articles-Classification/blob/master/BBC_Articles_Classification.ipynb\" target=\"_parent\"><img src=\"https://colab.research.google.com/assets/colab-badge.svg\" alt=\"Open In Colab\"/></a>"
      ]
    },
    {
      "cell_type": "code",
      "metadata": {
        "id": "zX4Kg8DUTKWO",
        "colab_type": "code",
        "colab": {}
      },
      "source": [
        "#@title Licensed under the Apache License, Version 2.0 (the \"License\");\n",
        "# you may not use this file except in compliance with the License.\n",
        "# You may obtain a copy of the License at\n",
        "#\n",
        "# https://www.apache.org/licenses/LICENSE-2.0\n",
        "#\n",
        "# Unless required by applicable law or agreed to in writing, software\n",
        "# distributed under the License is distributed on an \"AS IS\" BASIS,\n",
        "# WITHOUT WARRANTIES OR CONDITIONS OF ANY KIND, either express or implied.\n",
        "# See the License for the specific language governing permissions and\n",
        "# limitations under the License."
      ],
      "execution_count": 102,
      "outputs": []
    },
    {
      "cell_type": "markdown",
      "metadata": {
        "colab_type": "text",
        "id": "view-in-github"
      },
      "source": [
        "<a href=\"https://colab.research.google.com/github/lmoroney/dlaicourse/blob/master/TensorFlow%20In%20Practice/Course%203%20-%20NLP/Course%203%20-%20Week%202%20-%20Exercise%20-%20Question.ipynb\" target=\"_parent\"><img src=\"https://colab.research.google.com/assets/colab-badge.svg\" alt=\"Open In Colab\"/></a>"
      ]
    },
    {
      "cell_type": "code",
      "metadata": {
        "colab_type": "code",
        "id": "gnwiOnGyW5JK",
        "colab": {
          "base_uri": "https://localhost:8080/",
          "height": 202
        },
        "outputId": "e517bb63-c1db-4334-d254-ee6445b5f7a9"
      },
      "source": [
        "import csv\n",
        "import tensorflow as tf\n",
        "import numpy as np\n",
        "from tensorflow.keras.preprocessing.text import Tokenizer\n",
        "from tensorflow.keras.preprocessing.sequence import pad_sequences\n",
        "\n",
        "!wget --no-check-certificate \\\n",
        "    https://storage.googleapis.com/laurencemoroney-blog.appspot.com/bbc-text.csv \\\n",
        "    -O /tmp/bbc-text.csv"
      ],
      "execution_count": 103,
      "outputs": [
        {
          "output_type": "stream",
          "text": [
            "--2020-07-10 11:54:50--  https://storage.googleapis.com/laurencemoroney-blog.appspot.com/bbc-text.csv\n",
            "Resolving storage.googleapis.com (storage.googleapis.com)... 74.125.204.128, 64.233.189.128, 108.177.97.128, ...\n",
            "Connecting to storage.googleapis.com (storage.googleapis.com)|74.125.204.128|:443... connected.\n",
            "HTTP request sent, awaiting response... 200 OK\n",
            "Length: 5057493 (4.8M) [application/octet-stream]\n",
            "Saving to: ‘/tmp/bbc-text.csv’\n",
            "\n",
            "\r/tmp/bbc-text.csv     0%[                    ]       0  --.-KB/s               \r/tmp/bbc-text.csv   100%[===================>]   4.82M  --.-KB/s    in 0.04s   \n",
            "\n",
            "2020-07-10 11:54:50 (108 MB/s) - ‘/tmp/bbc-text.csv’ saved [5057493/5057493]\n",
            "\n"
          ],
          "name": "stdout"
        }
      ]
    },
    {
      "cell_type": "code",
      "metadata": {
        "colab_type": "code",
        "id": "EYo6A4v5ZABQ",
        "colab": {}
      },
      "source": [
        "vocab_size = 4000\n",
        "embedding_dim = 15\n",
        "max_length = 2000\n",
        "trunc_type = 'post'\n",
        "padding_type = 'post'\n",
        "oov_tok = \"<OOV>\"\n",
        "training_portion = .8"
      ],
      "execution_count": 104,
      "outputs": []
    },
    {
      "cell_type": "code",
      "metadata": {
        "colab_type": "code",
        "id": "iU1qq3_SZBx_",
        "colab": {
          "base_uri": "https://localhost:8080/",
          "height": 34
        },
        "outputId": "c81b9119-ef5c-43b9-8c63-b3a2729e3c7d"
      },
      "source": [
        "sentences = []\n",
        "labels = []\n",
        "stopwords = [ \"a\", \"s\" ,\"said\",\"e\",\"ve\" ,\"us\" , \"two\", \"three\", \"must\",\"m\" , \"up\" ,\"eu\" ,\"ms\" ,\"on\" ,\"six\" ,\"in\" ,\"uk\" ,\"that\",\"re\" ,\"o\" ,\"it\" , \"bt\" ,\"will\" , \"not\",\"mr\" ,\"year\" ,\"also\", \"us\" ,\"can\" ,\"t\" , \"uk\", \"no\" , \"let\",\"co\"  ,   \"about\", \"above\", \"after\", \"again\", \"against\", \"all\", \"am\", \"an\", \"and\", \"any\", \"are\", \"as\", \"at\", \"be\", \"because\", \"been\", \"before\", \"being\", \"below\", \"between\", \"both\", \"but\", \"by\", \"could\", \"did\", \"do\", \"does\", \"doing\", \"down\", \"during\", \"each\", \"few\", \"for\", \"from\", \"further\", \"had\", \"has\", \"have\", \"having\", \"he\", \"he'd\", \"he'll\", \"he's\", \"her\", \"here\", \"here's\", \"hers\", \"herself\", \"him\", \"himself\", \"his\", \"how\", \"how's\", \"i\", \"i'd\", \"i'll\", \"i'm\", \"i've\", \"if\", \"in\", \"into\", \"is\", \"it\", \"it's\", \"its\", \"itself\", \"let's\", \"me\", \"more\", \"most\", \"my\", \"myself\", \"nor\", \"of\", \"on\", \"once\", \"only\", \"or\", \"other\", \"ought\", \"our\", \"ours\", \"ourselves\", \"out\", \"over\", \"own\", \"same\", \"she\", \"she'd\", \"she'll\", \"she's\", \"should\", \"so\", \"some\", \"such\", \"than\", \"that\", \"that's\", \"the\", \"their\", \"theirs\", \"them\", \"themselves\", \"then\", \"there\", \"there's\", \"these\", \"they\", \"they'd\", \"they'll\", \"they're\", \"they've\", \"this\", \"those\", \"through\", \"to\", \"too\", \"under\", \"until\", \"up\", \"very\", \"was\", \"we\", \"we'd\", \"we'll\", \"we're\", \"we've\", \"were\", \"what\", \"what's\", \"when\", \"when's\", \"where\", \"where's\", \"which\", \"while\", \"who\", \"who's\", \"whom\", \"why\", \"why's\", \"with\", \"would\", \"you\", \"you'd\", \"you'll\", \"you're\", \"you've\", \"your\", \"yours\", \"yourself\", \"yourselves\" ]\n",
        "print(len(stopwords))\n",
        "# Expected Output\n",
        "# 186"
      ],
      "execution_count": 105,
      "outputs": [
        {
          "output_type": "stream",
          "text": [
            "186\n"
          ],
          "name": "stdout"
        }
      ]
    },
    {
      "cell_type": "code",
      "metadata": {
        "colab_type": "code",
        "id": "eutB2xMiZD0e",
        "colab": {
          "base_uri": "https://localhost:8080/",
          "height": 104
        },
        "outputId": "cd88cbcc-5cef-44f9-d10c-e183e91cdd67"
      },
      "source": [
        "from string import digits\n",
        "remove_digits = str.maketrans('','',digits)\n",
        "\n",
        "with open(\"/tmp/bbc-text.csv\", 'r') as csvfile:\n",
        "    next(csvfile)\n",
        "    for row in csvfile :\n",
        "        row = row.translate(remove_digits)\n",
        "        for stopword in stopwords :\n",
        "          row= row.replace(\" \" +stopword + \" \", \" \")\n",
        "        row = row.split(',')\n",
        "        labels.append(row[0])\n",
        "        sentences.append(row[1])\n",
        "\n",
        "    \n",
        "print(len(labels))\n",
        "print(len(sentences))\n",
        "print(sentences[0])\n",
        "# Expected Output\n",
        "# 2225\n",
        "# 2225\n",
        "# tv future hands viewers home theatre systems  plasma high-definition tvs  digital video recorders moving living room  way people watch tv will radically different five years  time.  according expert panel gathered annual consumer electronics show las vegas discuss new technologies will impact one favourite pastimes. us leading trend  programmes content will delivered viewers via home networks  cable  satellite  telecoms companies  broadband service providers front rooms portable devices.  one talked-about technologies ces digital personal video recorders (dvr pvr). set-top boxes  like us s tivo uk s sky+ system  allow people record  store  play  pause forward wind tv programmes want.  essentially  technology allows much personalised tv. also built-in high-definition tv sets  big business japan us  slower take off europe lack high-definition programming. not can people forward wind adverts  can also forget abiding network channel schedules  putting together a-la-carte entertainment. us networks cable satellite companies worried means terms advertising revenues well  brand identity  viewer loyalty channels. although us leads technology moment  also concern raised europe  particularly growing uptake services like sky+.  happens today  will see nine months years  time uk   adam hume  bbc broadcast s futurologist told bbc news website. likes bbc  no issues lost advertising revenue yet. pressing issue moment commercial uk broadcasters  brand loyalty important everyone.  will talking content brands rather network brands   said tim hanlon  brand communications firm starcom mediavest.  reality broadband connections  anybody can producer content.  added:  challenge now hard promote programme much choice.   means  said stacey jolna  senior vice president tv guide tv group  way people find content want watch simplified tv viewers. means networks  us terms  channels take leaf google s book search engine future  instead scheduler help people find want watch. kind channel model might work younger ipod generation used taking control gadgets play them. might not suit everyone  panel recognised. older generations comfortable familiar schedules channel brands know getting. perhaps not want much choice put hands  mr hanlon suggested.  end  kids just diapers pushing buttons already - everything possible available   said mr hanlon.  ultimately  consumer will tell market want.   50 000 new gadgets technologies showcased ces  many enhancing tv-watching experience. high-definition tv sets everywhere many new models lcd (liquid crystal display) tvs launched dvr capability built  instead external boxes. one example launched show humax s 26-inch lcd tv 80-hour tivo dvr dvd recorder. one us s biggest satellite tv companies  directtv  even launched branded dvr show 100-hours recording capability  instant replay  search function. set can pause rewind tv 90 hours. microsoft chief bill gates announced pre-show keynote speech partnership tivo  called tivotogo  means people can play recorded programmes windows pcs mobile devices. reflect increasing trend freeing multimedia people can watch want  want."
      ],
      "execution_count": 106,
      "outputs": [
        {
          "output_type": "stream",
          "text": [
            "2225\n",
            "2225\n",
            "tv future hands viewers home theatre systems  plasma high-definition tvs  digital video recorders moving living room  way people watch tv radically different five years  time.  according expert panel gathered annual consumer electronics show las vegas discuss new technologies impact one favourite pastimes. leading trend  programmes content delivered viewers via home networks  cable  satellite  telecoms companies  broadband service providers front rooms portable devices.  one talked-about technologies ces digital personal video recorders (dvr pvr). set-top boxes  like tivo sky+ system  allow people record  store  play  pause forward wind tv programmes want.  essentially  technology allows much personalised tv. built-in high-definition tv sets  big business japan  slower take off europe lack high-definition programming. people forward wind adverts  forget abiding network channel schedules  putting together a-la-carte entertainment. networks cable satellite companies worried means terms advertising revenues well  brand identity  viewer loyalty channels. although leads technology moment  concern raised europe  particularly growing uptake services like sky+.  happens today  see nine months years  time   adam hume  bbc broadcast futurologist told bbc news website. likes bbc  issues lost advertising revenue yet. pressing issue moment commercial broadcasters  brand loyalty important everyone.  talking content brands rather network brands   tim hanlon  brand communications firm starcom mediavest.  reality broadband connections  anybody producer content.  added:  challenge now is hard promote programme much choice.   means  stacey jolna  senior vice president tv guide tv group  way people find content want watch simplified tv viewers. means networks  terms  channels take leaf google book search engine future  instead scheduler help people find want watch. kind channel model might work younger ipod generation used taking control gadgets play them. might suit everyone  panel recognised. older generations comfortable familiar schedules channel brands know getting. perhaps want much choice put hands  hanlon suggested.  end  kids just diapers pushing buttons already - everything possible available   hanlon.  ultimately  consumer tell market want.     new gadgets technologies showcased ces  many enhancing tv-watching experience. high-definition tv sets everywhere many new models lcd (liquid crystal display) tvs launched dvr capability built  instead external boxes. one example launched show humax -inch lcd tv -hour tivo dvr dvd recorder. one biggest satellite tv companies  directtv  even launched branded dvr show -hours recording capability  instant replay  search function. set pause rewind tv  hours. microsoft chief bill gates announced pre-show keynote speech partnership tivo  called tivotogo  means people play recorded programmes windows pcs mobile devices. reflect increasing trend freeing multimedia people watch want  want.\n",
            "\n"
          ],
          "name": "stdout"
        }
      ]
    },
    {
      "cell_type": "code",
      "metadata": {
        "colab_type": "code",
        "id": "XfdaWh06ZGe3",
        "colab": {
          "base_uri": "https://localhost:8080/",
          "height": 101
        },
        "outputId": "2a1da9b7-e929-496b-cc7b-68d54741fc5f"
      },
      "source": [
        "train_size = int(len(sentences)*training_portion)\n",
        "\n",
        "train_sentences = sentences[0:train_size]\n",
        "train_labels = labels[0:train_size]\n",
        "\n",
        "validation_sentences = sentences[train_size:]\n",
        "validation_labels = labels[train_size:]\n",
        "\n",
        "print(train_size)\n",
        "print(len(train_sentences))\n",
        "print(len(train_labels))\n",
        "print(len(validation_sentences))\n",
        "print(len(validation_labels))\n",
        "\n",
        "# Expected output (if training_portion=.8)\n",
        "# 1780\n",
        "# 1780\n",
        "# 1780\n",
        "# 445\n",
        "# 445"
      ],
      "execution_count": 107,
      "outputs": [
        {
          "output_type": "stream",
          "text": [
            "1780\n",
            "1780\n",
            "1780\n",
            "445\n",
            "445\n"
          ],
          "name": "stdout"
        }
      ]
    },
    {
      "cell_type": "code",
      "metadata": {
        "colab_type": "code",
        "id": "ULzA8xhwZI22",
        "colab": {
          "base_uri": "https://localhost:8080/",
          "height": 118
        },
        "outputId": "12b6e75d-3623-4c64-b0dc-cb3360c491a3"
      },
      "source": [
        "tokenizer = Tokenizer(num_words=vocab_size,oov_token=oov_tok)\n",
        "tokenizer.fit_on_texts(train_sentences)\n",
        "word_index = tokenizer.word_index\n",
        "\n",
        "train_sequences = tokenizer.texts_to_sequences(train_sentences)\n",
        "train_padded = pad_sequences(train_sequences,maxlen=max_length, padding=padding_type,truncating=trunc_type)\n",
        "\n",
        "print(len(train_sequences[0]))\n",
        "print(len(train_padded[0]))\n",
        "\n",
        "print(len(train_sequences[1]))\n",
        "print(len(train_padded[1]))\n",
        "\n",
        "print(len(train_sequences[10]))\n",
        "print(len(train_padded[10]))\n",
        "\n",
        "# Expected Ouput\n",
        "# 449\n",
        "# 120\n",
        "# 200\n",
        "# 120\n",
        "# 192\n",
        "# 120"
      ],
      "execution_count": 108,
      "outputs": [
        {
          "output_type": "stream",
          "text": [
            "404\n",
            "2000\n",
            "176\n",
            "2000\n",
            "177\n",
            "2000\n"
          ],
          "name": "stdout"
        }
      ]
    },
    {
      "cell_type": "code",
      "metadata": {
        "colab_type": "code",
        "id": "c8PeFWzPZLW_",
        "colab": {
          "base_uri": "https://localhost:8080/",
          "height": 50
        },
        "outputId": "8af09d23-281b-48e4-9fc8-ecf0ee2809ae"
      },
      "source": [
        "validation_sequences = tokenizer.texts_to_sequences(validation_sentences)\n",
        "validation_padded = pad_sequences(validation_sequences,maxlen=max_length,padding=padding_type,truncating=trunc_type)\n",
        "\n",
        "print(len(validation_sequences))\n",
        "print(validation_padded.shape)\n",
        "\n",
        "# Expected output\n",
        "# 445\n",
        "# (445, 120)"
      ],
      "execution_count": 109,
      "outputs": [
        {
          "output_type": "stream",
          "text": [
            "445\n",
            "(445, 2000)\n"
          ],
          "name": "stdout"
        }
      ]
    },
    {
      "cell_type": "code",
      "metadata": {
        "colab_type": "code",
        "id": "XkWiQ_FKZNp2",
        "colab": {
          "base_uri": "https://localhost:8080/",
          "height": 168
        },
        "outputId": "ee6e9177-212a-4a20-abcf-2a9a4ce29c79"
      },
      "source": [
        "label_tokenizer = Tokenizer()\n",
        "label_tokenizer.fit_on_texts(labels)\n",
        "print(label_tokenizer.word_index)\n",
        "training_label_seq = label_tokenizer.texts_to_sequences(train_labels)\n",
        "validation_label_seq = label_tokenizer.texts_to_sequences(validation_labels)\n",
        "\n",
        "training_label_seq=np.array(training_label_seq)\n",
        "validation_label_seq= np.array(validation_label_seq)\n",
        "\n",
        "print(training_label_seq[0])\n",
        "print(training_label_seq[1])\n",
        "print(training_label_seq[2])\n",
        "print(training_label_seq.shape)\n",
        "\n",
        "print(validation_label_seq[0])\n",
        "print(validation_label_seq[1])\n",
        "print(validation_label_seq[2])\n",
        "print(validation_label_seq.shape)\n",
        "\n",
        "# Expected output\n",
        "# [5]\n",
        "# [2]\n",
        "# [1]\n",
        "# (1780, 1)\n",
        "# [4]\n",
        "# [5]\n",
        "# [3]\n",
        "# (445, 1)"
      ],
      "execution_count": 110,
      "outputs": [
        {
          "output_type": "stream",
          "text": [
            "{'sport': 1, 'business': 2, 'politics': 3, 'tech': 4, 'entertainment': 5}\n",
            "[4]\n",
            "[2]\n",
            "[1]\n",
            "(1780, 1)\n",
            "[5]\n",
            "[4]\n",
            "[3]\n",
            "(445, 1)\n"
          ],
          "name": "stdout"
        }
      ]
    },
    {
      "cell_type": "code",
      "metadata": {
        "colab_type": "code",
        "id": "HZ5um4MWZP-W",
        "colab": {
          "base_uri": "https://localhost:8080/",
          "height": 286
        },
        "outputId": "ab78c9a8-c779-4fe8-e4a8-1c65c0667670"
      },
      "source": [
        "model = tf.keras.Sequential([\n",
        "  tf.keras.layers.Embedding(vocab_size,embedding_dim,input_length=max_length),\n",
        "  tf.keras.layers.Flatten(),\n",
        "  tf.keras.layers.Dense(64,activation='relu'),\n",
        "  tf.keras.layers.Dense(6,activation='softmax')\n",
        "])\n",
        "model.compile(loss='sparse_categorical_crossentropy',optimizer='adam',metrics=['accuracy'])\n",
        "model.summary()\n",
        "\n",
        "# Expected Output\n",
        "# Layer (type)                 Output Shape              Param #   \n",
        "# =================================================================\n",
        "# embedding (Embedding)        (None, 120, 16)           16000     \n",
        "# _________________________________________________________________\n",
        "# global_average_pooling1d (Gl (None, 16)                0         \n",
        "# _________________________________________________________________\n",
        "# dense (Dense)                (None, 24)                408       \n",
        "# _________________________________________________________________\n",
        "# dense_1 (Dense)              (None, 6)                 150       \n",
        "# =================================================================\n",
        "# Total params: 16,558\n",
        "# Trainable params: 16,558\n",
        "# Non-trainable params: 0"
      ],
      "execution_count": 111,
      "outputs": [
        {
          "output_type": "stream",
          "text": [
            "Model: \"sequential_12\"\n",
            "_________________________________________________________________\n",
            "Layer (type)                 Output Shape              Param #   \n",
            "=================================================================\n",
            "embedding_12 (Embedding)     (None, 2000, 15)          60000     \n",
            "_________________________________________________________________\n",
            "flatten_12 (Flatten)         (None, 30000)             0         \n",
            "_________________________________________________________________\n",
            "dense_24 (Dense)             (None, 64)                1920064   \n",
            "_________________________________________________________________\n",
            "dense_25 (Dense)             (None, 6)                 390       \n",
            "=================================================================\n",
            "Total params: 1,980,454\n",
            "Trainable params: 1,980,454\n",
            "Non-trainable params: 0\n",
            "_________________________________________________________________\n"
          ],
          "name": "stdout"
        }
      ]
    },
    {
      "cell_type": "code",
      "metadata": {
        "colab_type": "code",
        "id": "XsfdxySKZSXu",
        "colab": {
          "base_uri": "https://localhost:8080/",
          "height": 1000
        },
        "outputId": "f164d8f4-559f-4bb4-9e1b-d8d64c881369"
      },
      "source": [
        "num_epochs = 30\n",
        "history = model.fit(\n",
        "    train_padded,\n",
        "    training_label_seq,\n",
        "    epochs=num_epochs,\n",
        "    validation_data=(validation_padded,validation_label_seq)\n",
        ")"
      ],
      "execution_count": 112,
      "outputs": [
        {
          "output_type": "stream",
          "text": [
            "Epoch 1/30\n",
            "56/56 [==============================] - 1s 13ms/step - loss: 1.6103 - accuracy: 0.2646 - val_loss: 1.4621 - val_accuracy: 0.4157\n",
            "Epoch 2/30\n",
            "56/56 [==============================] - 1s 11ms/step - loss: 1.1093 - accuracy: 0.6247 - val_loss: 0.7813 - val_accuracy: 0.8539\n",
            "Epoch 3/30\n",
            "56/56 [==============================] - 1s 10ms/step - loss: 0.4092 - accuracy: 0.9478 - val_loss: 0.3290 - val_accuracy: 0.9258\n",
            "Epoch 4/30\n",
            "56/56 [==============================] - 1s 10ms/step - loss: 0.1248 - accuracy: 0.9871 - val_loss: 0.1987 - val_accuracy: 0.9506\n",
            "Epoch 5/30\n",
            "56/56 [==============================] - 1s 10ms/step - loss: 0.0464 - accuracy: 0.9989 - val_loss: 0.1536 - val_accuracy: 0.9573\n",
            "Epoch 6/30\n",
            "56/56 [==============================] - 1s 11ms/step - loss: 0.0221 - accuracy: 0.9994 - val_loss: 0.1338 - val_accuracy: 0.9573\n",
            "Epoch 7/30\n",
            "56/56 [==============================] - 1s 11ms/step - loss: 0.0129 - accuracy: 1.0000 - val_loss: 0.1317 - val_accuracy: 0.9596\n",
            "Epoch 8/30\n",
            "56/56 [==============================] - 1s 10ms/step - loss: 0.0084 - accuracy: 1.0000 - val_loss: 0.1238 - val_accuracy: 0.9596\n",
            "Epoch 9/30\n",
            "56/56 [==============================] - 1s 10ms/step - loss: 0.0060 - accuracy: 1.0000 - val_loss: 0.1173 - val_accuracy: 0.9618\n",
            "Epoch 10/30\n",
            "56/56 [==============================] - 1s 10ms/step - loss: 0.0046 - accuracy: 1.0000 - val_loss: 0.1200 - val_accuracy: 0.9618\n",
            "Epoch 11/30\n",
            "56/56 [==============================] - 1s 10ms/step - loss: 0.0035 - accuracy: 1.0000 - val_loss: 0.1171 - val_accuracy: 0.9618\n",
            "Epoch 12/30\n",
            "56/56 [==============================] - 1s 10ms/step - loss: 0.0028 - accuracy: 1.0000 - val_loss: 0.1146 - val_accuracy: 0.9596\n",
            "Epoch 13/30\n",
            "56/56 [==============================] - 1s 10ms/step - loss: 0.0023 - accuracy: 1.0000 - val_loss: 0.1142 - val_accuracy: 0.9596\n",
            "Epoch 14/30\n",
            "56/56 [==============================] - 1s 11ms/step - loss: 0.0019 - accuracy: 1.0000 - val_loss: 0.1154 - val_accuracy: 0.9596\n",
            "Epoch 15/30\n",
            "56/56 [==============================] - 1s 11ms/step - loss: 0.0016 - accuracy: 1.0000 - val_loss: 0.1128 - val_accuracy: 0.9596\n",
            "Epoch 16/30\n",
            "56/56 [==============================] - 1s 11ms/step - loss: 0.0014 - accuracy: 1.0000 - val_loss: 0.1127 - val_accuracy: 0.9596\n",
            "Epoch 17/30\n",
            "56/56 [==============================] - 1s 10ms/step - loss: 0.0012 - accuracy: 1.0000 - val_loss: 0.1133 - val_accuracy: 0.9618\n",
            "Epoch 18/30\n",
            "56/56 [==============================] - 1s 10ms/step - loss: 0.0011 - accuracy: 1.0000 - val_loss: 0.1128 - val_accuracy: 0.9596\n",
            "Epoch 19/30\n",
            "56/56 [==============================] - 1s 11ms/step - loss: 9.4824e-04 - accuracy: 1.0000 - val_loss: 0.1129 - val_accuracy: 0.9618\n",
            "Epoch 20/30\n",
            "56/56 [==============================] - 1s 10ms/step - loss: 8.4177e-04 - accuracy: 1.0000 - val_loss: 0.1139 - val_accuracy: 0.9618\n",
            "Epoch 21/30\n",
            "56/56 [==============================] - 1s 10ms/step - loss: 7.5294e-04 - accuracy: 1.0000 - val_loss: 0.1140 - val_accuracy: 0.9618\n",
            "Epoch 22/30\n",
            "56/56 [==============================] - 1s 10ms/step - loss: 6.7619e-04 - accuracy: 1.0000 - val_loss: 0.1115 - val_accuracy: 0.9596\n",
            "Epoch 23/30\n",
            "56/56 [==============================] - 1s 10ms/step - loss: 6.1211e-04 - accuracy: 1.0000 - val_loss: 0.1146 - val_accuracy: 0.9618\n",
            "Epoch 24/30\n",
            "56/56 [==============================] - 1s 11ms/step - loss: 5.5714e-04 - accuracy: 1.0000 - val_loss: 0.1140 - val_accuracy: 0.9618\n",
            "Epoch 25/30\n",
            "56/56 [==============================] - 1s 14ms/step - loss: 5.0506e-04 - accuracy: 1.0000 - val_loss: 0.1134 - val_accuracy: 0.9618\n",
            "Epoch 26/30\n",
            "56/56 [==============================] - 1s 11ms/step - loss: 4.6147e-04 - accuracy: 1.0000 - val_loss: 0.1146 - val_accuracy: 0.9618\n",
            "Epoch 27/30\n",
            "56/56 [==============================] - 1s 11ms/step - loss: 4.2342e-04 - accuracy: 1.0000 - val_loss: 0.1153 - val_accuracy: 0.9618\n",
            "Epoch 28/30\n",
            "56/56 [==============================] - 1s 11ms/step - loss: 3.8862e-04 - accuracy: 1.0000 - val_loss: 0.1149 - val_accuracy: 0.9596\n",
            "Epoch 29/30\n",
            "56/56 [==============================] - 1s 11ms/step - loss: 3.5952e-04 - accuracy: 1.0000 - val_loss: 0.1147 - val_accuracy: 0.9618\n",
            "Epoch 30/30\n",
            "56/56 [==============================] - 1s 10ms/step - loss: 3.3124e-04 - accuracy: 1.0000 - val_loss: 0.1152 - val_accuracy: 0.9618\n"
          ],
          "name": "stdout"
        }
      ]
    },
    {
      "cell_type": "code",
      "metadata": {
        "colab_type": "code",
        "id": "dQ0BX2apXS9u",
        "colab": {
          "base_uri": "https://localhost:8080/",
          "height": 541
        },
        "outputId": "38d08279-a5f1-4627-f3a9-eaed97b6421e"
      },
      "source": [
        "import matplotlib.pyplot as plt\n",
        "\n",
        "\n",
        "def plot_graphs(history, string):\n",
        "  plt.plot(history.history[string])\n",
        "  plt.plot(history.history['val_'+string])\n",
        "  plt.xlabel(\"Epochs\")\n",
        "  plt.ylabel(string)\n",
        "  plt.legend([string, 'val_'+string])\n",
        "  plt.show()\n",
        "  \n",
        "plot_graphs(history, \"accuracy\")\n",
        "plot_graphs(history, \"loss\")"
      ],
      "execution_count": 113,
      "outputs": [
        {
          "output_type": "display_data",
          "data": {
            "image/png": "[encoded data removed]",
            "text/plain": [
              "<Figure size 432x288 with 1 Axes>"
            ]
          },
          "metadata": {
            "tags": [],
            "needs_background": "light"
          }
        },
        {
          "output_type": "display_data",
          "data": {
            "image/png": "[encoded data removed]",
            "text/plain": [
              "<Figure size 432x288 with 1 Axes>"
            ]
          },
          "metadata": {
            "tags": [],
            "needs_background": "light"
          }
        }
      ]
    },
    {
      "cell_type": "code",
      "metadata": {
        "id": "713CYOPDtRxD",
        "colab_type": "code",
        "colab": {
          "base_uri": "https://localhost:8080/",
          "height": 185
        },
        "outputId": "8bce6f81-2a86-46ff-98a9-57332087e492"
      },
      "source": [
        "predict_sentences = [\" They are scheduled to play the first of their eight “seeding” games on July 30 (against the Los Angeles Clippers, another championship contender) before the playoffs start in mid-August.\",\n",
        "                     \"“Active reading” involves focused reading techniques to get the most learning potential possible out of every article.When reading business English articles, it’s a good idea to read the article twice.The first time you read an article, read it for a general understanding. Circle any of the words you don’t know. When you get to the end of the article, look up the words you don’t know in an English dictionary and write down their meanings in your notebook.Then, read the article again. This time you should be able to understand more.If you can, find a friend, colleague or teacher who’s willing to read the article too. After you both read the article, discuss it. Was there anything you found really interesting? Did you learn something new or surprising? Was there an idiom or phrase that you saw for the first time? Discussing what you read is a great way to check your understanding of the article and to practice speaking English.Finally, supercharge your reading practice by supplementing it with the authentic business videos on FluentU. FluentU provides real English dialogues, business news reports, interviews with entrepreneurs and more. There are thousands of videos, including a whole category just for business-focused videos.\",\n",
        "                     \"German sports car maker Porsche has declared that it would no longer produce diesel cars, but instead concentrate on petrol-powered , electric and hybrid vehicles. It is the first German automaker to completely withdraw from the diesel car sector.The company made the decision in the aftermath of the emission cheating scandal that hit Porsche's parent company Volkswagen . In an interview, Porsche's CEO Oliver Blume said that Porsche's image had suffered due to the  scandal.\",\n",
        "                     \"The website can be edited by everyone. Currently, about 80,000 volunteers around the world write articles for it. They are constantly monitored by hundreds of editors who replace information if it is wrong. In the early days of the encyclopaedia users had their doubts about using Wikipedia, because many mistakes were found and some experts claimed it was not serious enough.The Wikimedia Foundation runs the encyclopaedia. It also raises money to pay its administrators and a staff of about 400 employees.  With the money it gets it can also keep Wikipedia free from advertisements. The foundation has announced that it wants to raise 100 million dollars over the  next decade to keep Wikipedia running\",\n",
        "                     \"SpaceX, a private American aerospace company, has successfully landed a rocket on the landing pad at Cape Canaveral , Florida. The Falcon 9 rocket landed in an upright position after three previous attempts had failed . The SpaceX rocket landing is a big step forward for future space missions. Up to now the first stages of a rocket fell back to earth and couldn't be used again. Reusable rockets that can bring people into orbit or to a space station would strongly reduce the cost of space missions. It would also allow spacecraft to be launched more often. A single Falcon 9 rocket costs about 70 million dollars, while fuel per launch only costs about 200,000 dollars\",\n",
        "                     \"The World Wide Web has become 25 years old. In 1989 a British scientist, Tim Berners-Lee tried to find a way to get computers around the world to communicate with each other. At first, Berners-Lee wanted to give scientists and researchers a way to share their information. He came up with a concept that could connect documents: the World Wide Web was born. It was an invention that revolutionized our world the way no other one has. Lee’s first computer, from which he accessed others, is still on display in London.\"]\n",
        "predict_sequences = tokenizer.texts_to_sequences(predict_sentences)\n",
        "predict_padded = pad_sequences(predict_sequences,maxlen=max_length,padding=padding_type,truncating=trunc_type)\n",
        "print(label_tokenizer.word_index)\n",
        "print(\"\\n\\n\")\n",
        "\n",
        "prediction = model.predict(predict_padded)\n",
        "print(np.around(prediction, decimals=1))"
      ],
      "execution_count": 114,
      "outputs": [
        {
          "output_type": "stream",
          "text": [
            "{'sport': 1, 'business': 2, 'politics': 3, 'tech': 4, 'entertainment': 5}\n",
            "\n",
            "\n",
            "\n",
            "[[0.  1.  0.  0.  0.  0. ]\n",
            " [0.  0.1 0.  0.  0.9 0. ]\n",
            " [0.  0.5 0.4 0.  0.  0.1]\n",
            " [0.  0.7 0.1 0.  0.2 0.1]\n",
            " [0.  0.2 0.5 0.  0.1 0.2]\n",
            " [0.  0.8 0.  0.  0.1 0. ]]\n"
          ],
          "name": "stdout"
        }
      ]
    },
    {
      "cell_type": "code",
      "metadata": {
        "colab_type": "code",
        "id": "w7Xc-uWxXhML",
        "colab": {}
      },
      "source": [
        "reverse_word_index = dict([(value, key) for (key, value) in word_index.items()])\n",
        "\n",
        "def decode_sentence(text):\n",
        "    return ' '.join([reverse_word_index.get(i, '?') for i in text])\n"
      ],
      "execution_count": 115,
      "outputs": []
    },
    {
      "cell_type": "code",
      "metadata": {
        "colab_type": "code",
        "id": "OhnFA_TDXrih",
        "colab": {
          "base_uri": "https://localhost:8080/",
          "height": 34
        },
        "outputId": "a3632c47-90fd-4f3c-93f7-2ebe7ce8831c"
      },
      "source": [
        "e = model.layers[0]\n",
        "weights = e.get_weights()[0]\n",
        "print(weights.shape) # shape: (vocab_size, embedding_dim)\n",
        "\n",
        "# Expected output\n",
        "# (1000, 16)"
      ],
      "execution_count": 116,
      "outputs": [
        {
          "output_type": "stream",
          "text": [
            "(4000, 15)\n"
          ],
          "name": "stdout"
        }
      ]
    },
    {
      "cell_type": "code",
      "metadata": {
        "colab_type": "code",
        "id": "_POzcWWAXudL",
        "colab": {}
      },
      "source": [
        "import io\n",
        "\n",
        "out_v = io.open('vecs.tsv', 'w', encoding='utf-8')\n",
        "out_m = io.open('meta.tsv', 'w', encoding='utf-8')\n",
        "index = min(len(reverse_word_index),vocab_size)\n",
        "\n",
        "for word_num in range(1, index):\n",
        "  word = reverse_word_index[word_num]\n",
        "  embeddings = weights[word_num]\n",
        "  out_m.write(word + \"\\n\")\n",
        "  out_v.write('\\t'.join([str(x) for x in embeddings]) + \"\\n\")\n",
        "out_v.close()\n",
        "out_m.close()"
      ],
      "execution_count": 121,
      "outputs": []
    },
    {
      "cell_type": "code",
      "metadata": {
        "colab_type": "code",
        "id": "VmqpQMZ_XyOa",
        "colab": {}
      },
      "source": [
        "try:\n",
        "  from google.colab import files\n",
        "except ImportError:\n",
        "  pass\n",
        "else:\n",
        "  files.download('vecs.tsv')\n",
        "  files.download('meta.tsv')"
      ],
      "execution_count": null,
      "outputs": []
    }
  ]
}